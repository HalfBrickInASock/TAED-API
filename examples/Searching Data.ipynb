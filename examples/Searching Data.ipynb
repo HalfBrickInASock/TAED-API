{
 "cells": [
  {
   "cell_type": "code",
   "execution_count": null,
   "metadata": {
    "collapsed": true
   },
   "outputs": [],
   "source": [
    "# Configurations\n",
    "remote_url = \"https://liberles.cst.temple.edu/TAED/json/\""
   ]
  },
  {
   "cell_type": "code",
   "execution_count": null,
   "metadata": {
    "collapsed": true
   },
   "outputs": [],
   "source": [
    "# First we retrieve the KEGG Pathway list.\n",
    "req = requests.get(remote_url + \"KEGG\")\n",
    "kegg_list = jsonpickle.decode(req.text)"
   ]
  },
  {
   "cell_type": "code",
   "execution_count": null,
   "metadata": {
    "collapsed": true
   },
   "outputs": [],
   "source": [
    "# Next we get results from the server for the KEGG pathways.\n",
    "for path in kegg_list if \"Melanogenisis\" in path[\"pathName\"]:\n",
    "    name = path[\"pathName\"]\n",
    "    search[name] = TAEDSearch(search={\"kegg_pathway\": name})\n",
    "    search[name + \"_result\"] = search[name].run_web_query(remote_url)"
   ]
  },
  {
   "cell_type": "code",
   "execution_count": null,
   "metadata": {
    "collapsed": true
   },
   "outputs": [],
   "source": [
    "# Now We have search results for all of them.  Let's build trees.\n"
   ]
  }
 ],
 "metadata": {
  "kernelspec": {
   "display_name": "Python 3",
   "language": "python",
   "name": "python3"
  },
  "language_info": {
   "codemirror_mode": {
    "name": "ipython",
    "version": 3
   },
   "file_extension": ".py",
   "mimetype": "text/x-python",
   "name": "python",
   "nbconvert_exporter": "python",
   "pygments_lexer": "ipython3",
   "version": "3.6.0"
  }
 },
 "nbformat": 4,
 "nbformat_minor": 2
}
